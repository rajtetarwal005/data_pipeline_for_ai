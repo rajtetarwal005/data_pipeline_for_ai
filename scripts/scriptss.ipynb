{
 "cells": [
  {
   "cell_type": "code",
   "execution_count": 1,
   "id": "6aa5bd93",
   "metadata": {},
   "outputs": [],
   "source": [
    "import pandas as pd\n",
    "import requests\n",
    "from bs4 import BeautifulSoup\n",
    "import numpy as np"
   ]
  },
  {
   "cell_type": "code",
   "execution_count": 2,
   "id": "0e352d8f",
   "metadata": {},
   "outputs": [],
   "source": [
    "url='https://www.simplyhired.com/search?q=software+engineer'\n",
    "\n",
    "headers={'User-Agent':'Mozilla/5.0 (Windows NT 6.3; Win 64 ; x64) Apple WeKit /537.36(KHTML , like Gecko) Chrome/80.0.3987.162 Safari/537.36'} \n",
    "webpage=requests.get(url ,headers=headers).text\n",
    "# webpage=requests.get('https://www.simplyhired.com/search?q=software+engineer').text"
   ]
  },
  {
   "cell_type": "code",
   "execution_count": 3,
   "id": "5794e627",
   "metadata": {},
   "outputs": [
    {
     "name": "stdout",
     "output_type": "stream",
     "text": [
      "<!DOCTYPE html><html lang=\"en-US\"><head><title>Just a moment...</title><meta http-equiv=\"Content-Type\" content=\"text/html; charset=UTF-8\"><meta http-equiv=\"X-UA-Compatible\" content=\"IE=Edge\"><meta name=\"robots\" content=\"noindex,nofollow\"><meta name=\"viewport\" content=\"width=device-width,initial-scale=1\"><style>*{box-sizing:border-box;margin:0;padding:0}html{line-height:1.15;-webkit-text-size-adjust:100%;color:#313131;font-family:system-ui,-apple-system,BlinkMacSystemFont,\"Segoe UI\",Roboto,\"Helvetica Neue\",Arial,\"Noto Sans\",sans-serif,\"Apple Color Emoji\",\"Segoe UI Emoji\",\"Segoe UI Symbol\",\"Noto Color Emoji\"}body{display:flex;flex-direction:column;height:100vh;min-height:100vh}.main-content{margin:8rem auto;padding-left:1.5rem;max-width:60rem}@media (width <= 720px){.main-content{margin-top:4rem}}.h2{line-height:2.25rem;font-size:1.5rem;font-weight:500}@media (width <= 720px){.h2{line-height:1.5rem;font-size:1.25rem}}#challenge-error-text{background-image:url(\"data:image/svg+xml;base64,PHN2ZyB4bWxucz0iaHR0cDovL3d3dy53My5vcmcvMjAwMC9zdmciIHdpZHRoPSIzMiIgaGVpZ2h0PSIzMiIgZmlsbD0ibm9uZSI+PHBhdGggZmlsbD0iI0IyMEYwMyIgZD0iTTE2IDNhMTMgMTMgMCAxIDAgMTMgMTNBMTMuMDE1IDEzLjAxNSAwIDAgMCAxNiAzbTAgMjRhMTEgMTEgMCAxIDEgMTEtMTEgMTEuMDEgMTEuMDEgMCAwIDEtMTEgMTEiLz48cGF0aCBmaWxsPSIjQjIwRjAzIiBkPSJNMTcuMDM4IDE4LjYxNUgxNC44N0wxNC41NjMgOS41aDIuNzgzem0tMS4wODQgMS40MjdxLjY2IDAgMS4wNTcuMzg4LjQwNy4zODkuNDA3Ljk5NCAwIC41OTYtLjQwNy45ODQtLjM5Ny4zOS0xLjA1Ny4zODktLjY1IDAtMS4wNTYtLjM4OS0uMzk4LS4zODktLjM5OC0uOTg0IDAtLjU5Ny4zOTgtLjk4NS40MDYtLjM5NyAxLjA1Ni0uMzk3Ii8+PC9zdmc+\");background-repeat:no-repeat;background-size:contain;padding-left:34px}@media (prefers-color-scheme: dark){body{background-color:#222;color:#d9d9d9}}</style><meta http-equiv=\"refresh\" content=\"360\"></head><body><div class=\"main-wrapper\" role=\"main\"><div class=\"main-content\"><noscript><div class=\"h2\"><span id=\"challenge-error-text\">Enable JavaScript and cookies to continue</span></div></noscript></div></div><script>(function(){window._cf_chl_opt = {cvId: '3',cZone: 'www.simplyhired.com',cType: 'managed',cRay: '97ec2c797e052224',cH: '2MgVIGxL7YU3HyA.2lGwEt5FZ9jlKkEh3r2GVEfDHP8-1757813999-1.2.1.1-DXsuGkR4GfGFqk6rC5vuw_U6zTWbLjOmpDWdfI5zkrv7ZwfxyhpAzoOdTq9L.IHD',cUPMDTk:\"\\/search?q=software+engineer&__cf_chl_tk=rplwFnF.Ng81RKmStWQlM9yDNksnUB2KsccOi7jI3ww-1757813999-1.0.1.1-9Z9f7j_aOj8pA2iHUOoN3MHIcRAIqJIgsieopx9EBlE\",cFPWv: 'g',cITimeS: '1757813999',cTplC:0,cTplV:5,cTplB: 'cf',fa:\"\\/search?q=software+engineer&__cf_chl_f_tk=rplwFnF.Ng81RKmStWQlM9yDNksnUB2KsccOi7jI3ww-1757813999-1.0.1.1-9Z9f7j_aOj8pA2iHUOoN3MHIcRAIqJIgsieopx9EBlE\",md: 'YrIHk14pKmSlGTpMOWUsH6jJy5tD3aF_BZnZx70Ugzw-1757813999-1.2.1.1-YyIcLDPM2sSIrpxyvOHvAUT44zawp4P6ag.u6et3iehyGn3kedzxLAvbE2L2KO0Y7321LSEal3Vv6iGTa1iSBwUL4AxK8CM6CmPEG4VStdFuumtON0qeyVfmg0jTBpWNY4IFdN0LIZ0HJo85GrD9bSE_eaIOVB6uj7_u6JY8vjOf9UDZEaWSzxHOwVXP1_j5LZz1BFDRZBepknDQt.TzgkL7G828HNU5Zn696jFxP_P5Y9wzTLaT1Mvx4qjBzVJBTwA1tZCdkj4pGh9iMCpAYiq7E19sAzBX0N4Vu6YX4drsWlssn.tZd6DFeHmbJyOeNR0tiikGJUpbQXjksIu4kRDxf4iH2nvlOF9eO8ryhozxj_uEbQiEdgA17VQfZ6wZO7FVp_fyXjdEoi_5xYy8.76hUoiC.dkpPt25WQ_X4WtlS2vbs3Csf4_3vXl0150N5SuAVcudfdr.QW7ognNSJDUh7bmUoWcAuBiORcLTZH8.dQ.NrgDvWD65bukILBTVRve49xgoIXLJqmXM_pnnE13GFVCSgO9i_MS0Oi72nYzBorqHEBToi.VuFWh0XzzGcNmDxUqG8cNQ9w.ZW9A2xzfScr.2QYPQk..2gF8b8Y3X_9LiCvma2Uwyed87jcZaJUb9uSv2jiGGniU5kPXlt26TOvNS681txscb9N0DSXPu4XOWyhbLRuH4pC89Cv9_Yip9OLmOxUu8meuHWSLGctZlD6H3foOuGtkLtOT267xwpNuDPtoR4EvLZWj7msVeqaXF8Z4JooLjvNjW_GEmKvTKyzgdXaTq1.7dOtg3Zs9j6sasRluTdgWuwKfLX_XJNXIS4l2HuQmsvA6C3XNPX_Xsu_L1.KtdHe4wLIDHhpyOWpCrxNW9JKFJ995gqZfrjbuhNGl1DLwuNjd2QEIMfh._Mw6c.LpJHXmycmBJt68lU.mAebG8ddZx0Lu4LR7YBIt.vY6sCC62X6JRdmqHTIEU3ZZHuJqHnHPRM8SVUpR2nwrNd0leUMKrcbIO7nELTQSnRUm8H48Z41Zc_cu3OHIHXEbeqULyNTAtIsd58wzBVnOeYJtWb73WBXb3ZS4Nqdu6yPlmlmHAOnxe04WBIP1TLmByTMYg8aNhH8GsLMM',mdrd: '1kQyhaTx5cdc1GtMprdUEOGIQSzPUtjjxN.YXAmVw_0-1757813999-1.2.1.1-Wrke8MvPQ62IB8h0t1LC1wb7X2KvRPvr6pfMUBHFognN64Wkh3LqkI5NhflT4M0U9SMQuk7NrJDPJYoMnWmOQcVl.H2XyFV4PkTCOj5Vo2XGzfo3IGNpda6W6eKcXL6lemDYIlalJWCnHAEiTNlqJQPCR899zZGExwEBPZRZtX9Rx5S2xgFfKAYuaM6AzMmmhWzD9TqrVrj8gTB1L8r8ZPZnYkcspAPmSzp9.1ocS0oPWIq8IWf8mNoMjOTH4I.4I0SSRGqQH1KE2_V3F4iUTH3aDeu1W26Qv80rz4s9JZ75pnEdwyIZs_woRcu1DrkcUtldlRLXbhUSanTUHBjD1H3lGjrT1kLuKFxDbFMho6TsGJh8JLZqDVF.WM82rZBXKJHXB6o2YwvTvVhFrGCmofMHRiqiMTUe6AbKXWAjgxKHk8PYS5.gEXLcUnFeA0HEfq2sJOWR8SfAKr2ENL_Qh.esTE4BIbayUq.82RHMX33cYyLLXaPa8I4SJOzitt.sq.kEV8jRR7mTaujcrafVNsp8l2cgPwQysk.gTAyr.SEYSyZ7k_NaOhoTM9mbYLkVP_lqH3YfoKESzDbzJrIN7mzqsDpKF_u1DL7sQgAFWqN1BkMRlHIbGWC4lyX0zM_a_o8lICOSrjzHTeYcR9WOM3DELvUWCpMvX_qLVBxp0E40llF6YFw.FfDKafjtRTrFk6ClmoZ.1Ocb02kcTEGcdTxaRwh0nt1yQMzK3D6_0f1J5tBEjVopawRJaRBlZsmqDzFnObSam59y_hh5nxAZKG4b.iVe9Z6iIIwsuy5BqDFcTCyuksv_ORqxd20XoLYTu_luUPlk2Og_W0ycYFQeKFe3ZoT99kDzOtroh8kJOHtiq9hIjYHCdywYX13CYx59XViKbSMOhmJqapxcDWgvlyIFUEy3s7N3ugOfrgUItsmTwBEy1eGbAw88ZJCIBLaHzgn7MsmIh8fy4U2gvHl5rqVC654MqAL390alV5wAblhR10QInePUOlz5geZOEDMPI2GE.fcBS3dFvks_LSiu434pMxRs9P9SnxOuclFxn_exymXVLris.gc4.V1Xqws2xWwKs.hlhkZqGmCOPb8w8GA5z9qgOzkyS7vnK5othKrGLdHVOPhqvaeDulsiOUNrtyUa44NnrDsa9gkYv57sEVdU6Dcd1ygC.L.A8FiuDUV_QDI0ci_Co2h7H3Xqoo5loovi2dS9iZLabX9dfogqimSsSwdcp1.S2MNFR88Wy9jrpaQidB8AtpcR3aMGO1eGIrzsYhpSIeJVeIhZa3xSwZDjq8uY_EeGoFNLJScJBfOXi802BxEQIaGVUEcyPdoKQ2LnvWpPuhhD6IsEQCWrPY5HdHX_60Tp1nye.UARuUypa23md9FaZJcQmgfbMipKQue1IoXK150EF6LlC3M_7O7uvqmV07IbbnLoF4ByW2AOUC3a3_h7TDtn2pK9XM2ZgRJ6K78ZvVamEX_dD80YcHuzHmxJC.vj37kdDoIK7ZEAEVSxok2azjaonh7gscHaz9H8x4e0VXh7Qcgf6J_r5QS8swIhAnvJVze0_VnFsYlk0DY92A2d1aJpGbOx8EM4U3teV96nQJKniMFaSxo7H9XwtiCVkEChmdfMvEwhuY2sHF5lqlhNpadNBebKWQ0V.Z3gfnal1C.NkotAl2QalOqcHFfkl1fXgMTIdSFaJTv6j2gCDRyv5.cb.8hvJ321sw1LmDbSqPnW5VGzGgzdfgBbIVACFj3wGK0SInp3UHw9d.HJAl0SCoZw0f0XTJxdkivhLOwtgadyufhc1bnz6ntXsmEI_tF8YAFqXe9FmSKwUFRVGXngjqW7qEVUbzdyXc009jX8z1OmPFwbqidzuj06oma73IvpaAFpur2NUOZtxsAd9C.YpAAk5SquvsdGT1T20Ng5u58mDC_ZxCj_ioRxH0PF0mL3H6Oac0UTN6q.3AKEEqsE928BfOfpKbZq2z61ZSaRtnY_J2k79ttdOq8HyAvCKWYTUyu4pqEANyAxgIcrn8A6HWNN.ZmONlHwdVH4ZcBn9hEOzJoppYvY3GVGY2m.1SL7fMlwMOhSzEeO3dVNx4n1mMLeCyXY0hs9vF2WmgN4xjaMMX8Ax9oPsaxNcK7MzKcgfiapWq5Xwx_zURKztX9c9Htzz.nBkD.fiCeFeMaiogguFydWS4aIiJ4Q_aCixTa3lak4Cw7E.KIhlZs25cOhTDn_dD5Loxyqoo_Fn2TpEXoE_lKXHADchPAeJ5AtDvLvLKEi8MoMa8HxtM5Z4OmRApurZBcLAevR8WGRywK1qJEcAoxLThfr_zQFT4NvXrWcjqXXWeGSqNTo69JV3fUKBXHT6.vlRwVv_PlMwjCpP.d.o.hNxwEz4h9D9PRY._.75oN6wnQxRNiHaHBNRuKL2LekNwkTDlCx',};var a = document.createElement('script');a.src = '/cdn-cgi/challenge-platform/h/g/orchestrate/chl_page/v1?ray=97ec2c797e052224';window._cf_chl_opt.cOgUHash = location.hash === '' && location.href.indexOf('#') !== -1 ? '#' : location.hash;window._cf_chl_opt.cOgUQuery = location.search === '' && location.href.slice(0, location.href.length - window._cf_chl_opt.cOgUHash.length).indexOf('?') !== -1 ? '?' : location.search;if (window.history && window.history.replaceState) {var ogU = location.pathname + window._cf_chl_opt.cOgUQuery + window._cf_chl_opt.cOgUHash;history.replaceState(null, null,\"\\/search?q=software+engineer&__cf_chl_rt_tk=rplwFnF.Ng81RKmStWQlM9yDNksnUB2KsccOi7jI3ww-1757813999-1.0.1.1-9Z9f7j_aOj8pA2iHUOoN3MHIcRAIqJIgsieopx9EBlE\"+ window._cf_chl_opt.cOgUHash);a.onload = function() {history.replaceState(null, null, ogU);}}document.getElementsByTagName('head')[0].appendChild(a);}());</script></body></html>\n"
     ]
    }
   ],
   "source": [
    "print(webpage)"
   ]
  },
  {
   "cell_type": "code",
   "execution_count": 4,
   "id": "3377bb47",
   "metadata": {},
   "outputs": [
    {
     "name": "stdout",
     "output_type": "stream",
     "text": [
      "<!DOCTYPE html>\n",
      "<html lang=\"en-US\">\n",
      " <head>\n",
      "  <title>\n",
      "   Just a moment...\n",
      "  </title>\n",
      "  <meta content=\"text/html; charset=utf-8\" http-equiv=\"Content-Type\"/>\n",
      "  <meta content=\"IE=Edge\" http-equiv=\"X-UA-Compatible\"/>\n",
      "  <meta content=\"noindex,nofollow\" name=\"robots\"/>\n",
      "  <meta content=\"width=device-width,initial-scale=1\" name=\"viewport\"/>\n",
      "  <style>\n",
      "   *{box-sizing:border-box;margin:0;padding:0}html{line-height:1.15;-webkit-text-size-adjust:100%;color:#313131;font-family:system-ui,-apple-system,BlinkMacSystemFont,\"Segoe UI\",Roboto,\"Helvetica Neue\",Arial,\"Noto Sans\",sans-serif,\"Apple Color Emoji\",\"Segoe UI Emoji\",\"Segoe UI Symbol\",\"Noto Color Emoji\"}body{display:flex;flex-direction:column;height:100vh;min-height:100vh}.main-content{margin:8rem auto;padding-left:1.5rem;max-width:60rem}@media (width <= 720px){.main-content{margin-top:4rem}}.h2{line-height:2.25rem;font-size:1.5rem;font-weight:500}@media (width <= 720px){.h2{line-height:1.5rem;font-size:1.25rem}}#challenge-error-text{background-image:url(\"data:image/svg+xml;base64,PHN2ZyB4bWxucz0iaHR0cDovL3d3dy53My5vcmcvMjAwMC9zdmciIHdpZHRoPSIzMiIgaGVpZ2h0PSIzMiIgZmlsbD0ibm9uZSI+PHBhdGggZmlsbD0iI0IyMEYwMyIgZD0iTTE2IDNhMTMgMTMgMCAxIDAgMTMgMTNBMTMuMDE1IDEzLjAxNSAwIDAgMCAxNiAzbTAgMjRhMTEgMTEgMCAxIDEgMTEtMTEgMTEuMDEgMTEuMDEgMCAwIDEtMTEgMTEiLz48cGF0aCBmaWxsPSIjQjIwRjAzIiBkPSJNMTcuMDM4IDE4LjYxNUgxNC44N0wxNC41NjMgOS41aDIuNzgzem0tMS4wODQgMS40MjdxLjY2IDAgMS4wNTcuMzg4LjQwNy4zODkuNDA3Ljk5NCAwIC41OTYtLjQwNy45ODQtLjM5Ny4zOS0xLjA1Ny4zODktLjY1IDAtMS4wNTYtLjM4OS0uMzk4LS4zODktLjM5OC0uOTg0IDAtLjU5Ny4zOTgtLjk4NS40MDYtLjM5NyAxLjA1Ni0uMzk3Ii8+PC9zdmc+\");background-repeat:no-repeat;background-size:contain;padding-left:34px}@media (prefers-color-scheme: dark){body{background-color:#222;color:#d9d9d9}}\n",
      "  </style>\n",
      "  <meta content=\"360\" http-equiv=\"refresh\"/>\n",
      " </head>\n",
      " <body>\n",
      "  <div class=\"main-wrapper\" role=\"main\">\n",
      "   <div class=\"main-content\">\n",
      "    <noscript>\n",
      "     <div class=\"h2\">\n",
      "      <span id=\"challenge-error-text\">\n",
      "       Enable JavaScript and cookies to continue\n",
      "      </span>\n",
      "     </div>\n",
      "    </noscript>\n",
      "   </div>\n",
      "  </div>\n",
      "  <script>\n",
      "   (function(){window._cf_chl_opt = {cvId: '3',cZone: 'www.simplyhired.com',cType: 'managed',cRay: '97ec2c797e052224',cH: '2MgVIGxL7YU3HyA.2lGwEt5FZ9jlKkEh3r2GVEfDHP8-1757813999-1.2.1.1-DXsuGkR4GfGFqk6rC5vuw_U6zTWbLjOmpDWdfI5zkrv7ZwfxyhpAzoOdTq9L.IHD',cUPMDTk:\"\\/search?q=software+engineer&__cf_chl_tk=rplwFnF.Ng81RKmStWQlM9yDNksnUB2KsccOi7jI3ww-1757813999-1.0.1.1-9Z9f7j_aOj8pA2iHUOoN3MHIcRAIqJIgsieopx9EBlE\",cFPWv: 'g',cITimeS: '1757813999',cTplC:0,cTplV:5,cTplB: 'cf',fa:\"\\/search?q=software+engineer&__cf_chl_f_tk=rplwFnF.Ng81RKmStWQlM9yDNksnUB2KsccOi7jI3ww-1757813999-1.0.1.1-9Z9f7j_aOj8pA2iHUOoN3MHIcRAIqJIgsieopx9EBlE\",md: 'YrIHk14pKmSlGTpMOWUsH6jJy5tD3aF_BZnZx70Ugzw-1757813999-1.2.1.1-YyIcLDPM2sSIrpxyvOHvAUT44zawp4P6ag.u6et3iehyGn3kedzxLAvbE2L2KO0Y7321LSEal3Vv6iGTa1iSBwUL4AxK8CM6CmPEG4VStdFuumtON0qeyVfmg0jTBpWNY4IFdN0LIZ0HJo85GrD9bSE_eaIOVB6uj7_u6JY8vjOf9UDZEaWSzxHOwVXP1_j5LZz1BFDRZBepknDQt.TzgkL7G828HNU5Zn696jFxP_P5Y9wzTLaT1Mvx4qjBzVJBTwA1tZCdkj4pGh9iMCpAYiq7E19sAzBX0N4Vu6YX4drsWlssn.tZd6DFeHmbJyOeNR0tiikGJUpbQXjksIu4kRDxf4iH2nvlOF9eO8ryhozxj_uEbQiEdgA17VQfZ6wZO7FVp_fyXjdEoi_5xYy8.76hUoiC.dkpPt25WQ_X4WtlS2vbs3Csf4_3vXl0150N5SuAVcudfdr.QW7ognNSJDUh7bmUoWcAuBiORcLTZH8.dQ.NrgDvWD65bukILBTVRve49xgoIXLJqmXM_pnnE13GFVCSgO9i_MS0Oi72nYzBorqHEBToi.VuFWh0XzzGcNmDxUqG8cNQ9w.ZW9A2xzfScr.2QYPQk..2gF8b8Y3X_9LiCvma2Uwyed87jcZaJUb9uSv2jiGGniU5kPXlt26TOvNS681txscb9N0DSXPu4XOWyhbLRuH4pC89Cv9_Yip9OLmOxUu8meuHWSLGctZlD6H3foOuGtkLtOT267xwpNuDPtoR4EvLZWj7msVeqaXF8Z4JooLjvNjW_GEmKvTKyzgdXaTq1.7dOtg3Zs9j6sasRluTdgWuwKfLX_XJNXIS4l2HuQmsvA6C3XNPX_Xsu_L1.KtdHe4wLIDHhpyOWpCrxNW9JKFJ995gqZfrjbuhNGl1DLwuNjd2QEIMfh._Mw6c.LpJHXmycmBJt68lU.mAebG8ddZx0Lu4LR7YBIt.vY6sCC62X6JRdmqHTIEU3ZZHuJqHnHPRM8SVUpR2nwrNd0leUMKrcbIO7nELTQSnRUm8H48Z41Zc_cu3OHIHXEbeqULyNTAtIsd58wzBVnOeYJtWb73WBXb3ZS4Nqdu6yPlmlmHAOnxe04WBIP1TLmByTMYg8aNhH8GsLMM',mdrd: '1kQyhaTx5cdc1GtMprdUEOGIQSzPUtjjxN.YXAmVw_0-1757813999-1.2.1.1-Wrke8MvPQ62IB8h0t1LC1wb7X2KvRPvr6pfMUBHFognN64Wkh3LqkI5NhflT4M0U9SMQuk7NrJDPJYoMnWmOQcVl.H2XyFV4PkTCOj5Vo2XGzfo3IGNpda6W6eKcXL6lemDYIlalJWCnHAEiTNlqJQPCR899zZGExwEBPZRZtX9Rx5S2xgFfKAYuaM6AzMmmhWzD9TqrVrj8gTB1L8r8ZPZnYkcspAPmSzp9.1ocS0oPWIq8IWf8mNoMjOTH4I.4I0SSRGqQH1KE2_V3F4iUTH3aDeu1W26Qv80rz4s9JZ75pnEdwyIZs_woRcu1DrkcUtldlRLXbhUSanTUHBjD1H3lGjrT1kLuKFxDbFMho6TsGJh8JLZqDVF.WM82rZBXKJHXB6o2YwvTvVhFrGCmofMHRiqiMTUe6AbKXWAjgxKHk8PYS5.gEXLcUnFeA0HEfq2sJOWR8SfAKr2ENL_Qh.esTE4BIbayUq.82RHMX33cYyLLXaPa8I4SJOzitt.sq.kEV8jRR7mTaujcrafVNsp8l2cgPwQysk.gTAyr.SEYSyZ7k_NaOhoTM9mbYLkVP_lqH3YfoKESzDbzJrIN7mzqsDpKF_u1DL7sQgAFWqN1BkMRlHIbGWC4lyX0zM_a_o8lICOSrjzHTeYcR9WOM3DELvUWCpMvX_qLVBxp0E40llF6YFw.FfDKafjtRTrFk6ClmoZ.1Ocb02kcTEGcdTxaRwh0nt1yQMzK3D6_0f1J5tBEjVopawRJaRBlZsmqDzFnObSam59y_hh5nxAZKG4b.iVe9Z6iIIwsuy5BqDFcTCyuksv_ORqxd20XoLYTu_luUPlk2Og_W0ycYFQeKFe3ZoT99kDzOtroh8kJOHtiq9hIjYHCdywYX13CYx59XViKbSMOhmJqapxcDWgvlyIFUEy3s7N3ugOfrgUItsmTwBEy1eGbAw88ZJCIBLaHzgn7MsmIh8fy4U2gvHl5rqVC654MqAL390alV5wAblhR10QInePUOlz5geZOEDMPI2GE.fcBS3dFvks_LSiu434pMxRs9P9SnxOuclFxn_exymXVLris.gc4.V1Xqws2xWwKs.hlhkZqGmCOPb8w8GA5z9qgOzkyS7vnK5othKrGLdHVOPhqvaeDulsiOUNrtyUa44NnrDsa9gkYv57sEVdU6Dcd1ygC.L.A8FiuDUV_QDI0ci_Co2h7H3Xqoo5loovi2dS9iZLabX9dfogqimSsSwdcp1.S2MNFR88Wy9jrpaQidB8AtpcR3aMGO1eGIrzsYhpSIeJVeIhZa3xSwZDjq8uY_EeGoFNLJScJBfOXi802BxEQIaGVUEcyPdoKQ2LnvWpPuhhD6IsEQCWrPY5HdHX_60Tp1nye.UARuUypa23md9FaZJcQmgfbMipKQue1IoXK150EF6LlC3M_7O7uvqmV07IbbnLoF4ByW2AOUC3a3_h7TDtn2pK9XM2ZgRJ6K78ZvVamEX_dD80YcHuzHmxJC.vj37kdDoIK7ZEAEVSxok2azjaonh7gscHaz9H8x4e0VXh7Qcgf6J_r5QS8swIhAnvJVze0_VnFsYlk0DY92A2d1aJpGbOx8EM4U3teV96nQJKniMFaSxo7H9XwtiCVkEChmdfMvEwhuY2sHF5lqlhNpadNBebKWQ0V.Z3gfnal1C.NkotAl2QalOqcHFfkl1fXgMTIdSFaJTv6j2gCDRyv5.cb.8hvJ321sw1LmDbSqPnW5VGzGgzdfgBbIVACFj3wGK0SInp3UHw9d.HJAl0SCoZw0f0XTJxdkivhLOwtgadyufhc1bnz6ntXsmEI_tF8YAFqXe9FmSKwUFRVGXngjqW7qEVUbzdyXc009jX8z1OmPFwbqidzuj06oma73IvpaAFpur2NUOZtxsAd9C.YpAAk5SquvsdGT1T20Ng5u58mDC_ZxCj_ioRxH0PF0mL3H6Oac0UTN6q.3AKEEqsE928BfOfpKbZq2z61ZSaRtnY_J2k79ttdOq8HyAvCKWYTUyu4pqEANyAxgIcrn8A6HWNN.ZmONlHwdVH4ZcBn9hEOzJoppYvY3GVGY2m.1SL7fMlwMOhSzEeO3dVNx4n1mMLeCyXY0hs9vF2WmgN4xjaMMX8Ax9oPsaxNcK7MzKcgfiapWq5Xwx_zURKztX9c9Htzz.nBkD.fiCeFeMaiogguFydWS4aIiJ4Q_aCixTa3lak4Cw7E.KIhlZs25cOhTDn_dD5Loxyqoo_Fn2TpEXoE_lKXHADchPAeJ5AtDvLvLKEi8MoMa8HxtM5Z4OmRApurZBcLAevR8WGRywK1qJEcAoxLThfr_zQFT4NvXrWcjqXXWeGSqNTo69JV3fUKBXHT6.vlRwVv_PlMwjCpP.d.o.hNxwEz4h9D9PRY._.75oN6wnQxRNiHaHBNRuKL2LekNwkTDlCx',};var a = document.createElement('script');a.src = '/cdn-cgi/challenge-platform/h/g/orchestrate/chl_page/v1?ray=97ec2c797e052224';window._cf_chl_opt.cOgUHash = location.hash === '' && location.href.indexOf('#') !== -1 ? '#' : location.hash;window._cf_chl_opt.cOgUQuery = location.search === '' && location.href.slice(0, location.href.length - window._cf_chl_opt.cOgUHash.length).indexOf('?') !== -1 ? '?' : location.search;if (window.history && window.history.replaceState) {var ogU = location.pathname + window._cf_chl_opt.cOgUQuery + window._cf_chl_opt.cOgUHash;history.replaceState(null, null,\"\\/search?q=software+engineer&__cf_chl_rt_tk=rplwFnF.Ng81RKmStWQlM9yDNksnUB2KsccOi7jI3ww-1757813999-1.0.1.1-9Z9f7j_aOj8pA2iHUOoN3MHIcRAIqJIgsieopx9EBlE\"+ window._cf_chl_opt.cOgUHash);a.onload = function() {history.replaceState(null, null, ogU);}}document.getElementsByTagName('head')[0].appendChild(a);}());\n",
      "  </script>\n",
      " </body>\n",
      "</html>\n",
      "\n"
     ]
    }
   ],
   "source": [
    "soup=BeautifulSoup(webpage,'lxml')\n",
    "     \n",
    "\n",
    "print(soup.prettify())\n",
    "\n"
   ]
  },
  {
   "cell_type": "code",
   "execution_count": 5,
   "id": "4b58ce46",
   "metadata": {},
   "outputs": [
    {
     "name": "stdout",
     "output_type": "stream",
     "text": [
      "[]\n"
     ]
    }
   ],
   "source": [
    "\n",
    "print(soup.find_all('h2'))"
   ]
  },
  {
   "cell_type": "code",
   "execution_count": null,
   "id": "0dceeeef",
   "metadata": {},
   "outputs": [],
   "source": [
    "print(soup.find_all('h2'))"
   ]
  },
  {
   "cell_type": "code",
   "execution_count": 6,
   "id": "43e715f3",
   "metadata": {},
   "outputs": [
    {
     "name": "stdout",
     "output_type": "stream",
     "text": [
      "Refine Your Search\n",
      "Associate Software Engineer\n",
      "Software Engineer\n",
      "Software Engineer I, Frontend\n",
      "Software Developer, Entry-Level\n",
      "Software Developer\n",
      "Java Backend Engineer\n",
      "DevOps Engineer\n",
      "Backend Engineer\n",
      "Software Application Engineer\n",
      "Junior Java Developer\n",
      "Security Software Engineer (L5), Workforce Security\n",
      "Junior Software Engineer - Remote\n",
      "Back End Developer\n",
      "Software Engineer I\n",
      "Cloud Engineer\n",
      "Remote Fullstack Engineer\n",
      "Software Developer\n",
      "Software Engineer\n",
      "Front-end Engineer (Full-stack Experience) – Healthcare Tech\n",
      "Full-Stack Engineer\n",
      "I want to receive the latest job alert for software engineer\n",
      "Related Searches\n",
      "Associate Software Engineer\n",
      "Resources and Tools\n"
     ]
    }
   ],
   "source": [
    "from selenium import webdriver\n",
    "from bs4 import BeautifulSoup\n",
    "\n",
    "driver = webdriver.Chrome()\n",
    "driver.get(\"https://www.simplyhired.com/search?q=software+engineer\")\n",
    "\n",
    "soup = BeautifulSoup(driver.page_source, \"lxml\")\n",
    "\n",
    "for job in soup.find_all(\"h2\"):\n",
    "    print(job.text)\n",
    "\n",
    "driver.quit()\n"
   ]
  },
  {
   "cell_type": "code",
   "execution_count": 10,
   "id": "db0474e7",
   "metadata": {},
   "outputs": [
    {
     "name": "stdout",
     "output_type": "stream",
     "text": [
      "1. Why do you want to work for X company?\n",
      "2. Why do you want to leave your current/last company?\n",
      "3. What are you looking for in your next role?\n",
      "4. Tell me about a time when you had a conflict with a co-worker.\n",
      "5. Tell me about a time in which you had a conflict and needed to influence somebody else.\n",
      "6. What project are you currently working on?\n",
      "7. What is the most challenging aspect of your current project?\n",
      "8. What was the most difficult bug that you fixed in the past 6 months?\n",
      "9. How do you tackle challenges? Name a difficult challenge you faced while working on a project, how you overcame it, and what you learned.\n",
      "10. What are you excited about?\n"
     ]
    }
   ],
   "source": [
    "from selenium import webdriver\n",
    "from selenium.webdriver.common.by import By\n",
    "from selenium.webdriver.chrome.service import Service\n",
    "from selenium.webdriver.support.ui import WebDriverWait\n",
    "from selenium.webdriver.support import expected_conditions as EC\n",
    "import pandas as pd\n",
    "\n",
    "# Initialize Chrome WebDriver\n",
    "driver = webdriver.Chrome()\n",
    "\n",
    "# Open the behavioral interview questions page\n",
    "driver.get(\"https://www.techinterviewhandbook.org/behavioral-interview-questions/\")\n",
    "\n",
    "# Wait until the questions (inside <ol><li>) are loaded\n",
    "wait = WebDriverWait(driver, 10)\n",
    "wait.until(EC.presence_of_all_elements_located((By.CSS_SELECTOR, \"ol li\")))\n",
    "\n",
    "# Find all <li> elements inside <ol> (the questions)\n",
    "li_elements = driver.find_elements(By.CSS_SELECTOR, \"ol li\")\n",
    "\n",
    "# Extract text of first 10 questions\n",
    "questions = [li.text for li in li_elements[:10]]\n",
    "\n",
    "# Close the browser\n",
    "driver.quit()\n",
    "\n",
    "# Save to CSV\n",
    "df = pd.DataFrame({\"question\": questions, \"type\": [\"Behavioral\"]*len(questions)})\n",
    "df.to_csv(\"behavioral_questions.csv\", index=False)\n",
    "\n",
    "# Print the first 10 questions\n",
    "for i, q in enumerate(questions, 1):\n",
    "    print(f\"{i}. {q}\")\n"
   ]
  },
  {
   "cell_type": "code",
   "execution_count": null,
   "id": "eb13cece",
   "metadata": {},
   "outputs": [],
   "source": []
  }
 ],
 "metadata": {
  "kernelspec": {
   "display_name": "dataweb",
   "language": "python",
   "name": "python3"
  },
  "language_info": {
   "codemirror_mode": {
    "name": "ipython",
    "version": 3
   },
   "file_extension": ".py",
   "mimetype": "text/x-python",
   "name": "python",
   "nbconvert_exporter": "python",
   "pygments_lexer": "ipython3",
   "version": "3.11.13"
  }
 },
 "nbformat": 4,
 "nbformat_minor": 5
}
